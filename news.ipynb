{
  "nbformat": 4,
  "nbformat_minor": 0,
  "metadata": {
    "colab": {
      "name": " news.ipynb",
      "provenance": [],
      "collapsed_sections": [],
      "authorship_tag": "ABX9TyPAkR35SfJCive6l0yiQaiC",
      "include_colab_link": true
    },
    "kernelspec": {
      "name": "python3",
      "display_name": "Python 3"
    },
    "language_info": {
      "name": "python"
    }
  },
  "cells": [
    {
      "cell_type": "markdown",
      "metadata": {
        "id": "view-in-github",
        "colab_type": "text"
      },
      "source": [
        "<a href=\"https://colab.research.google.com/github/WafiChoudhury/QuikNews/blob/main/news.ipynb\" target=\"_parent\"><img src=\"https://colab.research.google.com/assets/colab-badge.svg\" alt=\"Open In Colab\"/></a>"
      ]
    },
    {
      "cell_type": "code",
      "execution_count": 21,
      "metadata": {
        "id": "O6P2mUpIMPgA"
      },
      "outputs": [],
      "source": [
        "import requests\n",
        "from requests.exceptions import HTTPError\n",
        "\n",
        "# ad5b89115458417ead81285425671a68\n",
        "import requests\n",
        "import firebase_admin\n",
        "from firebase_admin import credentials, firestore\n"
      ]
    },
    {
      "cell_type": "code",
      "source": [
        ""
      ],
      "metadata": {
        "id": "zLPSdv0bMUPU"
      },
      "execution_count": null,
      "outputs": []
    },
    {
      "cell_type": "code",
      "source": [
        "def quickstart_new_instance(author, source, content):\n",
        "\n",
        "\n",
        "    cred = credentials.Certificate(\n",
        "        \"/content/quiknews-31048-firebase-adminsdk-ihb4r-629dcbadf2.json\")\n",
        "    db = firestore.client()\n",
        "\n",
        "    doc_ref = db.collection(u'Articles')\n",
        "\n",
        "    data = {\n",
        "            u'Author': author,\n",
        "            u'Content': content,\n",
        "            u'Source': source\n",
        "        }\n",
        "    # Add a new doc in collection 'cities' with ID 'LA'\n",
        "    db.collection(u'Articles').add(data)\n",
        "\n",
        "\n"
      ],
      "metadata": {
        "id": "rLlZyD2rquGN"
      },
      "execution_count": 42,
      "outputs": []
    },
    {
      "cell_type": "code",
      "source": [
        "\n",
        "def get_from_NewsAPI():\n",
        "\n",
        "    url = ('https://newsapi.org/v2/everything?'\n",
        "           'q=Apple&'\n",
        "           'from=2022-05-19&'\n",
        "           'sortBy=popularity&'\n",
        "           'apiKey=ad5b89115458417ead81285425671a68')\n",
        "\n",
        "    response = requests.get(url)\n",
        "    data = response.json()\n",
        "\n",
        "    arrOfDicts = []\n",
        "\n",
        "    for key in resp_dict['articles']:\n",
        "        source = key['source']['name']\n",
        "        author = key[\"author\"]\n",
        "        content = key[\"content\"]\n",
        "\n",
        "        quickstart_new_instance(author, source, content) \n",
        "\n",
        "get_from_NewsAPI()"
      ],
      "metadata": {
        "id": "rr0cXVltsTbV"
      },
      "execution_count": null,
      "outputs": []
    }
  ]
}